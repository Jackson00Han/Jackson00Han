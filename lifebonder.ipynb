{
  "nbformat": 4,
  "nbformat_minor": 0,
  "metadata": {
    "colab": {
      "provenance": [],
      "authorship_tag": "ABX9TyOUaesN+KWUTNMpDgLQp69Q",
      "include_colab_link": true
    },
    "kernelspec": {
      "name": "python3",
      "display_name": "Python 3"
    },
    "language_info": {
      "name": "python"
    }
  },
  "cells": [
    {
      "cell_type": "markdown",
      "metadata": {
        "id": "view-in-github",
        "colab_type": "text"
      },
      "source": [
        "<a href=\"https://colab.research.google.com/github/Jackson00Han/Jackson00Han/blob/main/lifebonder.ipynb\" target=\"_parent\"><img src=\"https://colab.research.google.com/assets/colab-badge.svg\" alt=\"Open In Colab\"/></a>"
      ]
    },
    {
      "cell_type": "markdown",
      "source": [
        "# LifeBonder Matching Algorithm: Goals, Criteria, and Initial Design"
      ],
      "metadata": {
        "id": "2pGBM8aBy7MI"
      }
    },
    {
      "cell_type": "markdown",
      "source": [
        " - Matching Goals (what problems we want to solve):\n",
        "    - Match target users or groups (Clustering Problem)\n",
        "      - Identify users most similar to you\n",
        "      - Identify users least similar to you\n",
        "      - Select a random user\n",
        "    - Recommend relevant events\n",
        "      - Recommend events based on user's interests\n",
        "      - Recommend events near user's location\n",
        "      - Recommend events based on past user activities|\n",
        "    - Locate chat logs\n",
        "      - Sentiment Analysis and chat sorting\n",
        "      - Retrieve chat logs containing specific keywords\n"
      ],
      "metadata": {
        "id": "SzIx9QlYzF1p"
      }
    },
    {
      "cell_type": "markdown",
      "source": [
        "- Creteria (similarity scores for matching users or events)\n",
        "    - Profile\n",
        "        - Name\n",
        "        - Age\n",
        "        - Country\n",
        "        - Location\n",
        "        - Education\n",
        "        - Personality (E/I)\n",
        "        - Num.Friends\n",
        "\n",
        "    - Behaviors\n",
        "        - Event Particapation\n",
        "        - Acticity Level (on the app)\n",
        "\n",
        "    - Interests\n",
        "\n",
        "    - TBA\n"
      ],
      "metadata": {
        "id": "D0TaQYuRzJNJ"
      }
    },
    {
      "cell_type": "markdown",
      "source": [
        "## Initial Design"
      ],
      "metadata": {
        "id": "mbuXO6t8zMpM"
      }
    },
    {
      "cell_type": "markdown",
      "source": [
        "### 1. Match target users or groups"
      ],
      "metadata": {
        "id": "ygafJO9GzRFW"
      }
    },
    {
      "cell_type": "markdown",
      "source": [
        "### 2. Recommend relevant events"
      ],
      "metadata": {
        "id": "s3V6g8I4zTQz"
      }
    },
    {
      "cell_type": "markdown",
      "source": [
        "### 3. Locate chat logs"
      ],
      "metadata": {
        "id": "S4ms7r1wzVGb"
      }
    }
  ]
}